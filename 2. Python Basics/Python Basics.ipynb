{
 "cells": [
  {
   "cell_type": "code",
   "execution_count": 1,
   "id": "2023c2a2",
   "metadata": {},
   "outputs": [
    {
     "name": "stdout",
     "output_type": "stream",
     "text": [
      "Hello Data World\n"
     ]
    }
   ],
   "source": [
    "print('Hello Data World')"
   ]
  },
  {
   "cell_type": "code",
   "execution_count": 2,
   "id": "e5378920",
   "metadata": {},
   "outputs": [],
   "source": [
    "s = 'Hello Data World'"
   ]
  },
  {
   "cell_type": "code",
   "execution_count": 3,
   "id": "dad82980",
   "metadata": {},
   "outputs": [
    {
     "data": {
      "text/plain": [
       "'d'"
      ]
     },
     "execution_count": 3,
     "metadata": {},
     "output_type": "execute_result"
    }
   ],
   "source": [
    "s[-1]"
   ]
  },
  {
   "cell_type": "code",
   "execution_count": 17,
   "id": "ff71b59a",
   "metadata": {},
   "outputs": [
    {
     "data": {
      "text/plain": [
       "'ata Wo'"
      ]
     },
     "execution_count": 17,
     "metadata": {},
     "output_type": "execute_result"
    }
   ],
   "source": [
    "s[-9:-3]"
   ]
  },
  {
   "cell_type": "code",
   "execution_count": 10,
   "id": "9d87f7b4",
   "metadata": {},
   "outputs": [
    {
     "data": {
      "text/plain": [
       "'l'"
      ]
     },
     "execution_count": 10,
     "metadata": {},
     "output_type": "execute_result"
    }
   ],
   "source": [
    "s[3:4]"
   ]
  },
  {
   "cell_type": "code",
   "execution_count": 11,
   "id": "8278ab9e",
   "metadata": {},
   "outputs": [
    {
     "data": {
      "text/plain": [
       "'d'"
      ]
     },
     "execution_count": 11,
     "metadata": {},
     "output_type": "execute_result"
    }
   ],
   "source": [
    "s[-1]"
   ]
  },
  {
   "cell_type": "code",
   "execution_count": 13,
   "id": "fa8391a0",
   "metadata": {},
   "outputs": [
    {
     "name": "stdout",
     "output_type": "stream",
     "text": [
      "Hello World\n"
     ]
    }
   ],
   "source": [
    "s1 = 'Hello'\n",
    "s2 = 'World'\n",
    "print(s1 + ' ' + s2)"
   ]
  },
  {
   "cell_type": "code",
   "execution_count": 15,
   "id": "c611f372",
   "metadata": {},
   "outputs": [
    {
     "name": "stdout",
     "output_type": "stream",
     "text": [
      "Hello_Hello_Hello_Hello_Hello_\n"
     ]
    }
   ],
   "source": [
    "print('Hello_'*5)"
   ]
  },
  {
   "cell_type": "code",
   "execution_count": 16,
   "id": "1cdbe939",
   "metadata": {},
   "outputs": [
    {
     "name": "stdout",
     "output_type": "stream",
     "text": [
      "Data Data Data Data Data Data Data Data Data Data Data Data Data Data Data \n"
     ]
    }
   ],
   "source": [
    "print('Data '*15)"
   ]
  },
  {
   "cell_type": "code",
   "execution_count": 18,
   "id": "45b13134",
   "metadata": {},
   "outputs": [],
   "source": [
    "s3 = 'Namaste World'"
   ]
  },
  {
   "cell_type": "code",
   "execution_count": 21,
   "id": "96db0e95",
   "metadata": {},
   "outputs": [
    {
     "name": "stdout",
     "output_type": "stream",
     "text": [
      "World\n"
     ]
    }
   ],
   "source": [
    "# Print 'World' fron string\n",
    "print(s3[8:])"
   ]
  },
  {
   "cell_type": "code",
   "execution_count": 22,
   "id": "c35244d7",
   "metadata": {},
   "outputs": [
    {
     "name": "stdout",
     "output_type": "stream",
     "text": [
      "ste\n"
     ]
    }
   ],
   "source": [
    "# Print 'ste' from string\n",
    "print(s3[4:7])"
   ]
  },
  {
   "cell_type": "code",
   "execution_count": 23,
   "id": "1e07f7f9",
   "metadata": {},
   "outputs": [
    {
     "name": "stdout",
     "output_type": "stream",
     "text": [
      "NAMASTE WORLD\n"
     ]
    }
   ],
   "source": [
    "print(s3.upper())"
   ]
  },
  {
   "cell_type": "code",
   "execution_count": 24,
   "id": "a4c0b608",
   "metadata": {},
   "outputs": [
    {
     "name": "stdout",
     "output_type": "stream",
     "text": [
      "namaste world\n"
     ]
    }
   ],
   "source": [
    "print(s3.lower())"
   ]
  },
  {
   "cell_type": "code",
   "execution_count": 26,
   "id": "2cdb913d",
   "metadata": {},
   "outputs": [
    {
     "data": {
      "text/plain": [
       "'Namaste world'"
      ]
     },
     "execution_count": 26,
     "metadata": {},
     "output_type": "execute_result"
    }
   ],
   "source": [
    "s3.capitalize()"
   ]
  },
  {
   "cell_type": "markdown",
   "id": "5cd6c494",
   "metadata": {},
   "source": [
    "Given the numbers stored in variables a and b. Can you write a simple code to compute the mean of these two numbers and assign it to a variable mean."
   ]
  },
  {
   "cell_type": "code",
   "execution_count": 27,
   "id": "452bb6fa",
   "metadata": {},
   "outputs": [
    {
     "name": "stdout",
     "output_type": "stream",
     "text": [
      "21.0\n"
     ]
    }
   ],
   "source": [
    "a = 19\n",
    "b = 23\n",
    "mean = (a+b)/2\n",
    "print(mean)"
   ]
  },
  {
   "cell_type": "code",
   "execution_count": 29,
   "id": "297aae80",
   "metadata": {},
   "outputs": [
    {
     "data": {
      "text/plain": [
       "4"
      ]
     },
     "execution_count": 29,
     "metadata": {},
     "output_type": "execute_result"
    }
   ],
   "source": [
    "round(3.5)"
   ]
  },
  {
   "cell_type": "code",
   "execution_count": 30,
   "id": "8519c8be",
   "metadata": {},
   "outputs": [
    {
     "data": {
      "text/plain": [
       "8"
      ]
     },
     "execution_count": 30,
     "metadata": {},
     "output_type": "execute_result"
    }
   ],
   "source": [
    "2**3"
   ]
  },
  {
   "cell_type": "code",
   "execution_count": null,
   "id": "a2f7ec8c",
   "metadata": {},
   "outputs": [],
   "source": []
  }
 ],
 "metadata": {
  "kernelspec": {
   "display_name": "Python 3 (ipykernel)",
   "language": "python",
   "name": "python3"
  },
  "language_info": {
   "codemirror_mode": {
    "name": "ipython",
    "version": 3
   },
   "file_extension": ".py",
   "mimetype": "text/x-python",
   "name": "python",
   "nbconvert_exporter": "python",
   "pygments_lexer": "ipython3",
   "version": "3.9.13"
  }
 },
 "nbformat": 4,
 "nbformat_minor": 5
}
