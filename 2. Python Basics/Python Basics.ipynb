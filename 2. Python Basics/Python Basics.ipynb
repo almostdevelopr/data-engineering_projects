{
 "cells": [
  {
   "cell_type": "code",
   "execution_count": 1,
   "id": "b09e22e3",
   "metadata": {},
   "outputs": [
    {
     "name": "stdout",
     "output_type": "stream",
     "text": [
      "Hello Data World\n"
     ]
    }
   ],
   "source": [
    "print('Hello Data World')"
   ]
  },
  {
   "cell_type": "code",
   "execution_count": 2,
   "id": "ad46b44d",
   "metadata": {},
   "outputs": [],
   "source": [
    "s = 'Hello Data World'"
   ]
  },
  {
   "cell_type": "code",
   "execution_count": 3,
   "id": "2325ea0f",
   "metadata": {},
   "outputs": [
    {
     "data": {
      "text/plain": [
       "'d'"
      ]
     },
     "execution_count": 3,
     "metadata": {},
     "output_type": "execute_result"
    }
   ],
   "source": [
    "s[-1]"
   ]
  },
  {
   "cell_type": "code",
   "execution_count": 17,
   "id": "179e5ad8",
   "metadata": {},
   "outputs": [
    {
     "data": {
      "text/plain": [
       "'ata Wo'"
      ]
     },
     "execution_count": 17,
     "metadata": {},
     "output_type": "execute_result"
    }
   ],
   "source": [
    "s[-9:-3]"
   ]
  },
  {
   "cell_type": "code",
   "execution_count": 10,
   "id": "36719bee",
   "metadata": {},
   "outputs": [
    {
     "data": {
      "text/plain": [
       "'l'"
      ]
     },
     "execution_count": 10,
     "metadata": {},
     "output_type": "execute_result"
    }
   ],
   "source": [
    "s[3:4]"
   ]
  },
  {
   "cell_type": "code",
   "execution_count": 11,
   "id": "e86e98e4",
   "metadata": {},
   "outputs": [
    {
     "data": {
      "text/plain": [
       "'d'"
      ]
     },
     "execution_count": 11,
     "metadata": {},
     "output_type": "execute_result"
    }
   ],
   "source": [
    "s[-1]"
   ]
  },
  {
   "cell_type": "code",
   "execution_count": 13,
   "id": "47e6fe2f",
   "metadata": {},
   "outputs": [
    {
     "name": "stdout",
     "output_type": "stream",
     "text": [
      "Hello World\n"
     ]
    }
   ],
   "source": [
    "s1 = 'Hello'\n",
    "s2 = 'World'\n",
    "print(s1 + ' ' + s2)"
   ]
  },
  {
   "cell_type": "code",
   "execution_count": 15,
   "id": "5f19cc3d",
   "metadata": {},
   "outputs": [
    {
     "name": "stdout",
     "output_type": "stream",
     "text": [
      "Hello_Hello_Hello_Hello_Hello_\n"
     ]
    }
   ],
   "source": [
    "print('Hello_'*5)"
   ]
  },
  {
   "cell_type": "code",
   "execution_count": 16,
   "id": "6e1c4b3f",
   "metadata": {},
   "outputs": [
    {
     "name": "stdout",
     "output_type": "stream",
     "text": [
      "Data Data Data Data Data Data Data Data Data Data Data Data Data Data Data \n"
     ]
    }
   ],
   "source": [
    "print('Data '*15)"
   ]
  },
  {
   "cell_type": "code",
   "execution_count": 18,
   "id": "aa283fb3",
   "metadata": {},
   "outputs": [],
   "source": [
    "s3 = 'Namaste World'"
   ]
  },
  {
   "cell_type": "code",
   "execution_count": 21,
   "id": "0e5056fd",
   "metadata": {},
   "outputs": [
    {
     "name": "stdout",
     "output_type": "stream",
     "text": [
      "World\n"
     ]
    }
   ],
   "source": [
    "# Print 'World' fron string\n",
    "print(s3[8:])"
   ]
  },
  {
   "cell_type": "code",
   "execution_count": 22,
   "id": "03d2a340",
   "metadata": {},
   "outputs": [
    {
     "name": "stdout",
     "output_type": "stream",
     "text": [
      "ste\n"
     ]
    }
   ],
   "source": [
    "# Print 'ste' from string\n",
    "print(s3[4:7])"
   ]
  },
  {
   "cell_type": "code",
   "execution_count": 23,
   "id": "6ab6f1f7",
   "metadata": {},
   "outputs": [
    {
     "name": "stdout",
     "output_type": "stream",
     "text": [
      "NAMASTE WORLD\n"
     ]
    }
   ],
   "source": [
    "print(s3.upper())"
   ]
  },
  {
   "cell_type": "code",
   "execution_count": 24,
   "id": "5f1150cf",
   "metadata": {},
   "outputs": [
    {
     "name": "stdout",
     "output_type": "stream",
     "text": [
      "namaste world\n"
     ]
    }
   ],
   "source": [
    "print(s3.lower())"
   ]
  },
  {
   "cell_type": "code",
   "execution_count": 26,
   "id": "e733c260",
   "metadata": {},
   "outputs": [
    {
     "data": {
      "text/plain": [
       "'Namaste world'"
      ]
     },
     "execution_count": 26,
     "metadata": {},
     "output_type": "execute_result"
    }
   ],
   "source": [
    "s3.capitalize()"
   ]
  },
  {
   "cell_type": "markdown",
   "id": "0a3957d9",
   "metadata": {},
   "source": [
    "Given the numbers stored in variables a and b. Can you write a simple code to compute the mean of these two numbers and assign it to a variable mean."
   ]
  },
  {
   "cell_type": "code",
   "execution_count": 27,
   "id": "dcccb680",
   "metadata": {},
   "outputs": [
    {
     "name": "stdout",
     "output_type": "stream",
     "text": [
      "21.0\n"
     ]
    }
   ],
   "source": [
    "a = 19\n",
    "b = 23\n",
    "mean = (a+b)/2\n",
    "print(mean)"
   ]
  },
  {
   "cell_type": "code",
   "execution_count": 29,
   "id": "98252b7b",
   "metadata": {},
   "outputs": [
    {
     "data": {
      "text/plain": [
       "4"
      ]
     },
     "execution_count": 29,
     "metadata": {},
     "output_type": "execute_result"
    }
   ],
   "source": [
    "round(3.5)"
   ]
  },
  {
   "cell_type": "code",
   "execution_count": 30,
   "id": "713f8f76",
   "metadata": {},
   "outputs": [
    {
     "data": {
      "text/plain": [
       "8"
      ]
     },
     "execution_count": 30,
     "metadata": {},
     "output_type": "execute_result"
    }
   ],
   "source": [
    "2**3"
   ]
  },
  {
   "cell_type": "markdown",
   "id": "092fe340",
   "metadata": {},
   "source": [
    "# List"
   ]
  },
  {
   "cell_type": "code",
   "execution_count": 31,
   "id": "fbab1597",
   "metadata": {},
   "outputs": [],
   "source": [
    "l1=[1,2,3,4,5]\n",
    "l2=['one','two','three','four','five']"
   ]
  },
  {
   "cell_type": "code",
   "execution_count": 32,
   "id": "7b3d2f09",
   "metadata": {},
   "outputs": [],
   "source": [
    "l3=l1.extend(l2)"
   ]
  },
  {
   "cell_type": "code",
   "execution_count": 34,
   "id": "7844d10c",
   "metadata": {},
   "outputs": [
    {
     "data": {
      "text/plain": [
       "[1, 2, 3, 4, 5, 'one', 'two', 'three', 'four', 'five']"
      ]
     },
     "execution_count": 34,
     "metadata": {},
     "output_type": "execute_result"
    }
   ],
   "source": [
    "l1\n"
   ]
  },
  {
   "cell_type": "code",
   "execution_count": null,
   "id": "63c1caae",
   "metadata": {},
   "outputs": [],
   "source": []
  },
  {
   "cell_type": "code",
   "execution_count": 35,
   "id": "47710892",
   "metadata": {},
   "outputs": [],
   "source": [
    "l1.append(l2)"
   ]
  },
  {
   "cell_type": "code",
   "execution_count": 36,
   "id": "553076fb",
   "metadata": {},
   "outputs": [
    {
     "data": {
      "text/plain": [
       "[1,\n",
       " 2,\n",
       " 3,\n",
       " 4,\n",
       " 5,\n",
       " 'one',\n",
       " 'two',\n",
       " 'three',\n",
       " 'four',\n",
       " 'five',\n",
       " ['one', 'two', 'three', 'four', 'five']]"
      ]
     },
     "execution_count": 36,
     "metadata": {},
     "output_type": "execute_result"
    }
   ],
   "source": [
    "l1"
   ]
  },
  {
   "cell_type": "code",
   "execution_count": 37,
   "id": "cb4e5170",
   "metadata": {},
   "outputs": [],
   "source": [
    "l=list(range(10))"
   ]
  },
  {
   "cell_type": "code",
   "execution_count": 38,
   "id": "112576cd",
   "metadata": {},
   "outputs": [
    {
     "data": {
      "text/plain": [
       "[0, 1, 2, 3, 4, 5, 6, 7, 8, 9]"
      ]
     },
     "execution_count": 38,
     "metadata": {},
     "output_type": "execute_result"
    }
   ],
   "source": [
    "l"
   ]
  },
  {
   "cell_type": "code",
   "execution_count": 39,
   "id": "699eea9a",
   "metadata": {},
   "outputs": [
    {
     "data": {
      "text/plain": [
       "[0, 1, 2, 3, 4, 5, 6, 7, 8, 9]"
      ]
     },
     "execution_count": 39,
     "metadata": {},
     "output_type": "execute_result"
    }
   ],
   "source": [
    "l[:]"
   ]
  },
  {
   "cell_type": "code",
   "execution_count": 40,
   "id": "bf5a00cf",
   "metadata": {},
   "outputs": [
    {
     "data": {
      "text/plain": [
       "9"
      ]
     },
     "execution_count": 40,
     "metadata": {},
     "output_type": "execute_result"
    }
   ],
   "source": [
    "l[-1]"
   ]
  },
  {
   "cell_type": "code",
   "execution_count": 41,
   "id": "b9be2f39",
   "metadata": {},
   "outputs": [
    {
     "data": {
      "text/plain": [
       "[0, 2, 4, 6]"
      ]
     },
     "execution_count": 41,
     "metadata": {},
     "output_type": "execute_result"
    }
   ],
   "source": [
    "l[:7:2]"
   ]
  },
  {
   "cell_type": "code",
   "execution_count": 42,
   "id": "2233d9b0",
   "metadata": {},
   "outputs": [
    {
     "data": {
      "text/plain": [
       "[2, 5, 8]"
      ]
     },
     "execution_count": 42,
     "metadata": {},
     "output_type": "execute_result"
    }
   ],
   "source": [
    "l[-8::3]"
   ]
  },
  {
   "cell_type": "code",
   "execution_count": 43,
   "id": "76aa731d",
   "metadata": {},
   "outputs": [
    {
     "data": {
      "text/plain": [
       "[0, 1, 2, 3, 4, 5, 6, 7, 8, 9]"
      ]
     },
     "execution_count": 43,
     "metadata": {},
     "output_type": "execute_result"
    }
   ],
   "source": [
    "l"
   ]
  },
  {
   "cell_type": "code",
   "execution_count": 44,
   "id": "9507a880",
   "metadata": {},
   "outputs": [],
   "source": [
    "l.insert(2,'tdp')"
   ]
  },
  {
   "cell_type": "code",
   "execution_count": 45,
   "id": "839731bd",
   "metadata": {},
   "outputs": [
    {
     "data": {
      "text/plain": [
       "[0, 1, 'tdp', 2, 3, 4, 5, 6, 7, 8, 9]"
      ]
     },
     "execution_count": 45,
     "metadata": {},
     "output_type": "execute_result"
    }
   ],
   "source": [
    "l"
   ]
  },
  {
   "cell_type": "markdown",
   "id": "c179e977",
   "metadata": {},
   "source": [
    "Can you access the last element of l which is a list and find the last element of that list"
   ]
  },
  {
   "cell_type": "code",
   "execution_count": 47,
   "id": "a08d9507",
   "metadata": {},
   "outputs": [],
   "source": [
    "l = [1, 2.3, ['a', 'b'], 'New York']\n"
   ]
  },
  {
   "cell_type": "code",
   "execution_count": 48,
   "id": "937d1f4a",
   "metadata": {},
   "outputs": [
    {
     "data": {
      "text/plain": [
       "'New York'"
      ]
     },
     "execution_count": 48,
     "metadata": {},
     "output_type": "execute_result"
    }
   ],
   "source": [
    "l[-1]"
   ]
  },
  {
   "cell_type": "code",
   "execution_count": 49,
   "id": "3ebd4749",
   "metadata": {},
   "outputs": [
    {
     "data": {
      "text/plain": [
       "'b'"
      ]
     },
     "execution_count": 49,
     "metadata": {},
     "output_type": "execute_result"
    }
   ],
   "source": [
    "l[-2][1]"
   ]
  },
  {
   "cell_type": "markdown",
   "id": "8ec0c896",
   "metadata": {},
   "source": [
    "# Dictionary"
   ]
  },
  {
   "cell_type": "code",
   "execution_count": 50,
   "id": "59620442",
   "metadata": {},
   "outputs": [],
   "source": [
    "my_dict={'name':'adam','surname':'eve','age':26}"
   ]
  },
  {
   "cell_type": "code",
   "execution_count": 76,
   "id": "f49db043",
   "metadata": {},
   "outputs": [
    {
     "name": "stdout",
     "output_type": "stream",
     "text": [
      "name\n",
      "surname\n",
      "age\n"
     ]
    }
   ],
   "source": [
    "for x in my_dict:\n",
    "    print(x)"
   ]
  },
  {
   "cell_type": "code",
   "execution_count": 52,
   "id": "0a479375",
   "metadata": {},
   "outputs": [],
   "source": [
    "my_dict['surname']='Alan'"
   ]
  },
  {
   "cell_type": "code",
   "execution_count": 54,
   "id": "37052370",
   "metadata": {},
   "outputs": [
    {
     "name": "stdout",
     "output_type": "stream",
     "text": [
      "My name is Adam Alan and my age is 26.\n"
     ]
    }
   ],
   "source": [
    "print(f\"My name is {my_dict['name'].capitalize()} {my_dict['surname']} and my age is {my_dict['age']}.\")"
   ]
  },
  {
   "cell_type": "code",
   "execution_count": 55,
   "id": "68f1d930",
   "metadata": {},
   "outputs": [],
   "source": [
    "my_new_dict={'names':['adam','eve','jose'],'surname':['bla','bla','bla']}"
   ]
  },
  {
   "cell_type": "code",
   "execution_count": 57,
   "id": "8ada64a7",
   "metadata": {},
   "outputs": [
    {
     "data": {
      "text/plain": [
       "list"
      ]
     },
     "execution_count": 57,
     "metadata": {},
     "output_type": "execute_result"
    }
   ],
   "source": [
    "type(my_new_dict['names'])"
   ]
  },
  {
   "cell_type": "code",
   "execution_count": 58,
   "id": "1b8cf5bf",
   "metadata": {},
   "outputs": [
    {
     "data": {
      "text/plain": [
       "'eve'"
      ]
     },
     "execution_count": 58,
     "metadata": {},
     "output_type": "execute_result"
    }
   ],
   "source": [
    "my_new_dict['names'][1]"
   ]
  },
  {
   "cell_type": "code",
   "execution_count": 59,
   "id": "7436c517",
   "metadata": {},
   "outputs": [],
   "source": [
    "d_new={}\n",
    "d_new['animal_names']=['dog','cat','rabbit']"
   ]
  },
  {
   "cell_type": "code",
   "execution_count": 60,
   "id": "112e7472",
   "metadata": {},
   "outputs": [
    {
     "data": {
      "text/plain": [
       "{'animal_names': ['dog', 'cat', 'rabbit']}"
      ]
     },
     "execution_count": 60,
     "metadata": {},
     "output_type": "execute_result"
    }
   ],
   "source": [
    "d_new"
   ]
  },
  {
   "cell_type": "code",
   "execution_count": 61,
   "id": "6d5a25ca",
   "metadata": {},
   "outputs": [
    {
     "data": {
      "text/plain": [
       "dict"
      ]
     },
     "execution_count": 61,
     "metadata": {},
     "output_type": "execute_result"
    }
   ],
   "source": [
    "type(d_new)"
   ]
  },
  {
   "cell_type": "markdown",
   "id": "5c567d1d",
   "metadata": {},
   "source": [
    "# Sets\n",
    "Only unique values"
   ]
  },
  {
   "cell_type": "code",
   "execution_count": 62,
   "id": "c7c6233b",
   "metadata": {},
   "outputs": [],
   "source": [
    "l=[1,2,3,4,5,4,3,2,2,2,1]"
   ]
  },
  {
   "cell_type": "code",
   "execution_count": 63,
   "id": "6c450958",
   "metadata": {},
   "outputs": [],
   "source": [
    "l_set=set(l)"
   ]
  },
  {
   "cell_type": "code",
   "execution_count": 64,
   "id": "e45a2b9a",
   "metadata": {},
   "outputs": [
    {
     "data": {
      "text/plain": [
       "{1, 2, 3, 4, 5}"
      ]
     },
     "execution_count": 64,
     "metadata": {},
     "output_type": "execute_result"
    }
   ],
   "source": [
    "l_set"
   ]
  },
  {
   "cell_type": "code",
   "execution_count": 65,
   "id": "93509f75",
   "metadata": {},
   "outputs": [],
   "source": [
    "l_set.add(2)"
   ]
  },
  {
   "cell_type": "code",
   "execution_count": 67,
   "id": "b913173c",
   "metadata": {},
   "outputs": [],
   "source": [
    "l_set.add(7)"
   ]
  },
  {
   "cell_type": "code",
   "execution_count": 68,
   "id": "909de8d4",
   "metadata": {},
   "outputs": [
    {
     "data": {
      "text/plain": [
       "{1, 2, 3, 4, 5, 7}"
      ]
     },
     "execution_count": 68,
     "metadata": {},
     "output_type": "execute_result"
    }
   ],
   "source": [
    "l_set"
   ]
  },
  {
   "cell_type": "code",
   "execution_count": 69,
   "id": "b598ee90",
   "metadata": {},
   "outputs": [],
   "source": [
    "t=()"
   ]
  },
  {
   "cell_type": "code",
   "execution_count": 71,
   "id": "43cd66e9",
   "metadata": {},
   "outputs": [
    {
     "name": "stdout",
     "output_type": "stream",
     "text": [
      "<class 'tuple'>\n"
     ]
    }
   ],
   "source": [
    "print(type(t))"
   ]
  },
  {
   "cell_type": "code",
   "execution_count": 72,
   "id": "9d8fb925",
   "metadata": {},
   "outputs": [],
   "source": [
    "l=[1,2,3,4]"
   ]
  },
  {
   "cell_type": "code",
   "execution_count": 73,
   "id": "86a1b786",
   "metadata": {},
   "outputs": [],
   "source": [
    "l.remove(3)"
   ]
  },
  {
   "cell_type": "code",
   "execution_count": 74,
   "id": "e3a4b51f",
   "metadata": {},
   "outputs": [
    {
     "data": {
      "text/plain": [
       "[1, 2, 4]"
      ]
     },
     "execution_count": 74,
     "metadata": {},
     "output_type": "execute_result"
    }
   ],
   "source": [
    "l"
   ]
  },
  {
   "cell_type": "code",
   "execution_count": 77,
   "id": "2b2dd9cb",
   "metadata": {},
   "outputs": [],
   "source": [
    "l=list(range(10))"
   ]
  },
  {
   "cell_type": "code",
   "execution_count": 78,
   "id": "afb86188",
   "metadata": {},
   "outputs": [
    {
     "name": "stdout",
     "output_type": "stream",
     "text": [
      "0\n",
      "1\n",
      "4\n",
      "9\n",
      "16\n",
      "25\n",
      "36\n",
      "49\n",
      "64\n",
      "81\n"
     ]
    }
   ],
   "source": [
    "for i in l:\n",
    "    print(i**2)"
   ]
  },
  {
   "cell_type": "code",
   "execution_count": null,
   "id": "dd44fd9e",
   "metadata": {},
   "outputs": [],
   "source": []
  }
 ],
 "metadata": {
  "kernelspec": {
   "display_name": "Python 3 (ipykernel)",
   "language": "python",
   "name": "python3"
  },
  "language_info": {
   "codemirror_mode": {
    "name": "ipython",
    "version": 3
   },
   "file_extension": ".py",
   "mimetype": "text/x-python",
   "name": "python",
   "nbconvert_exporter": "python",
   "pygments_lexer": "ipython3",
   "version": "3.9.13"
  }
 },
 "nbformat": 4,
 "nbformat_minor": 5
}
