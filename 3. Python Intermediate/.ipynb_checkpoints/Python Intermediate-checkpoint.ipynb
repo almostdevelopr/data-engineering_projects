{
 "cells": [
  {
   "cell_type": "markdown",
   "id": "4b6bed74",
   "metadata": {},
   "source": [
    "# Modules"
   ]
  },
  {
   "cell_type": "code",
   "execution_count": 1,
   "id": "9ce607de",
   "metadata": {},
   "outputs": [],
   "source": [
    "import math"
   ]
  },
  {
   "cell_type": "code",
   "execution_count": 2,
   "id": "33c63d88",
   "metadata": {},
   "outputs": [
    {
     "name": "stdout",
     "output_type": "stream",
     "text": [
      "15625.0\n"
     ]
    }
   ],
   "source": [
    "print(math.pow(5,6))"
   ]
  },
  {
   "cell_type": "markdown",
   "id": "a047350c",
   "metadata": {},
   "source": [
    "Can you compute the square of a 3 assigned to a variable a using the math module?\n",
    "\n"
   ]
  },
  {
   "cell_type": "code",
   "execution_count": 3,
   "id": "5a3aa1d7",
   "metadata": {},
   "outputs": [],
   "source": [
    "a_var = 3"
   ]
  },
  {
   "cell_type": "code",
   "execution_count": 4,
   "id": "eec973f1",
   "metadata": {},
   "outputs": [
    {
     "name": "stdout",
     "output_type": "stream",
     "text": [
      "9.0\n"
     ]
    }
   ],
   "source": [
    "print(math.pow(a_var, 2))"
   ]
  },
  {
   "cell_type": "code",
   "execution_count": 5,
   "id": "d18d8595",
   "metadata": {},
   "outputs": [],
   "source": [
    "l_names=['Ajay','Vijay','Ranbir']\n",
    "l_greet=['Hi '+ name for name in l_names]"
   ]
  },
  {
   "cell_type": "code",
   "execution_count": 6,
   "id": "498cf7a6",
   "metadata": {},
   "outputs": [
    {
     "data": {
      "text/plain": [
       "['Hi Ajay', 'Hi Vijay', 'Hi Ranbir']"
      ]
     },
     "execution_count": 6,
     "metadata": {},
     "output_type": "execute_result"
    }
   ],
   "source": [
    "l_greet"
   ]
  },
  {
   "cell_type": "markdown",
   "id": "9f6e10d3",
   "metadata": {},
   "source": [
    "# Exception Handling"
   ]
  },
  {
   "cell_type": "code",
   "execution_count": 7,
   "id": "03b2b975",
   "metadata": {},
   "outputs": [
    {
     "name": "stdout",
     "output_type": "stream",
     "text": [
      "Infinte\n"
     ]
    }
   ],
   "source": [
    "a=10\n",
    "b=0\n",
    "try:\n",
    "    print(a/b)\n",
    "except:\n",
    "    print('Infinte')"
   ]
  },
  {
   "cell_type": "markdown",
   "id": "e32f62a5",
   "metadata": {},
   "source": [
    "# Files"
   ]
  },
  {
   "cell_type": "code",
   "execution_count": 9,
   "id": "a2196422",
   "metadata": {},
   "outputs": [],
   "source": [
    "with open('myfile.txt', 'w') as f:\n",
    "    f.write('This is First line\\n')\n",
    "    f.write('Second line2222\\')"
   ]
  },
  {
   "cell_type": "code",
   "execution_count": null,
   "id": "f2fde30c",
   "metadata": {},
   "outputs": [],
   "source": [
    "with open('myfile.txt', 'a') as f:\n",
    "    f.write('\\nMy third line\\n')\n",
    "    f.write('My last lines\\n')"
   ]
  }
 ],
 "metadata": {
  "kernelspec": {
   "display_name": "Python 3 (ipykernel)",
   "language": "python",
   "name": "python3"
  },
  "language_info": {
   "codemirror_mode": {
    "name": "ipython",
    "version": 3
   },
   "file_extension": ".py",
   "mimetype": "text/x-python",
   "name": "python",
   "nbconvert_exporter": "python",
   "pygments_lexer": "ipython3",
   "version": "3.9.13"
  }
 },
 "nbformat": 4,
 "nbformat_minor": 5
}
