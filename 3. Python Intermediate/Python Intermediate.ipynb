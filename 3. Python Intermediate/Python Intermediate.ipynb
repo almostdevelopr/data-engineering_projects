{
 "cells": [
  {
   "cell_type": "markdown",
   "id": "f6bfeeec",
   "metadata": {},
   "source": [
    "# Modules"
   ]
  },
  {
   "cell_type": "code",
   "execution_count": 1,
   "id": "8012ef41",
   "metadata": {},
   "outputs": [],
   "source": [
    "import math"
   ]
  },
  {
   "cell_type": "code",
   "execution_count": 2,
   "id": "32402cbe",
   "metadata": {},
   "outputs": [
    {
     "name": "stdout",
     "output_type": "stream",
     "text": [
      "15625.0\n"
     ]
    }
   ],
   "source": [
    "print(math.pow(5,6))"
   ]
  },
  {
   "cell_type": "markdown",
   "id": "e7a9056c",
   "metadata": {},
   "source": [
    "Can you compute the square of a 3 assigned to a variable a using the math module?\n",
    "\n"
   ]
  },
  {
   "cell_type": "code",
   "execution_count": 3,
   "id": "80bea52b",
   "metadata": {},
   "outputs": [],
   "source": [
    "a_var = 3"
   ]
  },
  {
   "cell_type": "code",
   "execution_count": 4,
   "id": "b91b8e7b",
   "metadata": {},
   "outputs": [
    {
     "name": "stdout",
     "output_type": "stream",
     "text": [
      "9.0\n"
     ]
    }
   ],
   "source": [
    "print(math.pow(a_var, 2))"
   ]
  },
  {
   "cell_type": "code",
   "execution_count": 5,
   "id": "a1bb14d7",
   "metadata": {},
   "outputs": [],
   "source": [
    "l_names=['Ajay','Vijay','Ranbir']\n",
    "l_greet=['Hi '+ name for name in l_names]"
   ]
  },
  {
   "cell_type": "code",
   "execution_count": 6,
   "id": "9ae6c407",
   "metadata": {},
   "outputs": [
    {
     "data": {
      "text/plain": [
       "['Hi Ajay', 'Hi Vijay', 'Hi Ranbir']"
      ]
     },
     "execution_count": 6,
     "metadata": {},
     "output_type": "execute_result"
    }
   ],
   "source": [
    "l_greet"
   ]
  },
  {
   "cell_type": "markdown",
   "id": "aee67adc",
   "metadata": {},
   "source": [
    "# Exception Handling"
   ]
  },
  {
   "cell_type": "code",
   "execution_count": 7,
   "id": "c1c20019",
   "metadata": {},
   "outputs": [
    {
     "name": "stdout",
     "output_type": "stream",
     "text": [
      "Infinte\n"
     ]
    }
   ],
   "source": [
    "a=10\n",
    "b=0\n",
    "try:\n",
    "    print(a/b)\n",
    "except:\n",
    "    print('Infinte')"
   ]
  },
  {
   "cell_type": "markdown",
   "id": "4c3a7a4c",
   "metadata": {},
   "source": [
    "# Files"
   ]
  },
  {
   "cell_type": "code",
   "execution_count": 9,
   "id": "7a6b8bc7",
   "metadata": {},
   "outputs": [],
   "source": [
    "with open('myfile.txt', 'w') as f:\n",
    "    f.write('This is First line\\n')\n",
    "    f.write('Second line2222\\')"
   ]
  },
  {
   "cell_type": "code",
   "execution_count": 10,
   "id": "15729c74",
   "metadata": {},
   "outputs": [],
   "source": [
    "with open('myfile.txt', 'a') as f:\n",
    "    f.write('\\nMy third line\\n')\n",
    "    f.write('My last lines\\n')"
   ]
  },
  {
   "cell_type": "code",
   "execution_count": 11,
   "id": "42529cef",
   "metadata": {},
   "outputs": [
    {
     "name": "stdout",
     "output_type": "stream",
     "text": [
      "This is First line\n",
      "\n",
      "Second line2222\n",
      "\n",
      "My third line\n",
      "\n",
      "My last lines\n",
      "\n"
     ]
    }
   ],
   "source": [
    "with open('myfile.txt', 'r') as f:\n",
    "    for _ in f:\n",
    "        print(_)"
   ]
  },
  {
   "cell_type": "code",
   "execution_count": 12,
   "id": "7e2978a7",
   "metadata": {},
   "outputs": [],
   "source": [
    "f.close()"
   ]
  },
  {
   "cell_type": "code",
   "execution_count": 13,
   "id": "8fa97be3",
   "metadata": {},
   "outputs": [
    {
     "data": {
      "text/plain": [
       "<_io.TextIOWrapper name='myfile.txt' mode='r' encoding='UTF-8'>"
      ]
     },
     "execution_count": 13,
     "metadata": {},
     "output_type": "execute_result"
    }
   ],
   "source": [
    "f"
   ]
  },
  {
   "cell_type": "code",
   "execution_count": 14,
   "id": "480d5d99",
   "metadata": {},
   "outputs": [
    {
     "ename": "ValueError",
     "evalue": "I/O operation on closed file.",
     "output_type": "error",
     "traceback": [
      "\u001b[0;31m---------------------------------------------------------------------------\u001b[0m",
      "\u001b[0;31mValueError\u001b[0m                                Traceback (most recent call last)",
      "Input \u001b[0;32mIn [14]\u001b[0m, in \u001b[0;36m<cell line: 1>\u001b[0;34m()\u001b[0m\n\u001b[0;32m----> 1\u001b[0m \u001b[38;5;28;01mfor\u001b[39;00m i \u001b[38;5;129;01min\u001b[39;00m f:\n\u001b[1;32m      2\u001b[0m     \u001b[38;5;28mprint\u001b[39m(i)\n",
      "\u001b[0;31mValueError\u001b[0m: I/O operation on closed file."
     ]
    }
   ],
   "source": [
    "for i in f:\n",
    "    print(i)"
   ]
  },
  {
   "cell_type": "code",
   "execution_count": null,
   "id": "37647870",
   "metadata": {},
   "outputs": [],
   "source": []
  }
 ],
 "metadata": {
  "kernelspec": {
   "display_name": "Python 3 (ipykernel)",
   "language": "python",
   "name": "python3"
  },
  "language_info": {
   "codemirror_mode": {
    "name": "ipython",
    "version": 3
   },
   "file_extension": ".py",
   "mimetype": "text/x-python",
   "name": "python",
   "nbconvert_exporter": "python",
   "pygments_lexer": "ipython3",
   "version": "3.9.13"
  }
 },
 "nbformat": 4,
 "nbformat_minor": 5
}
